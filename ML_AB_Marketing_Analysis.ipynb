{
 "cells": [
  {
   "cell_type": "markdown",
   "metadata": {},
   "source": [
    "# Using ML for A/B Testing"
   ]
  },
  {
   "cell_type": "code",
   "execution_count": 1,
   "metadata": {
    "vscode": {
     "languageId": "r"
    }
   },
   "outputs": [
    {
     "name": "stderr",
     "output_type": "stream",
     "text": [
      "also installing the dependencies 'bit', 'htmltools', 'rematch', 'bit64', 'processx', 'xfun', 'bslib', 'tinytex', 'backports', 'lifecycle', 'blob', 'glue', 'tidyselect', 'vctrs', 'gtable', 'scales', 'gargle', 'cellranger', 'ids', 'timechange', 'systemfonts', 'clipr', 'vroom', 'tzdb', 'progress', 'callr', 'knitr', 'rmarkdown', 'selectr', 'broom', 'conflicted', 'cli', 'dbplyr', 'dplyr', 'dtplyr', 'forcats', 'ggplot2', 'googledrive', 'googlesheets4', 'haven', 'hms', 'jsonlite', 'lubridate', 'magrittr', 'modelr', 'pillar', 'purrr', 'ragg', 'readr', 'readxl', 'reprex', 'rlang', 'rstudioapi', 'rvest', 'stringr', 'tibble', 'tidyr', 'xml2'\n",
      "\n"
     ]
    },
    {
     "name": "stdout",
     "output_type": "stream",
     "text": [
      "\n",
      "  There are binary versions available but the source versions are later:\n",
      "               binary source needs_compilation\n",
      "bit             4.0.4  4.0.5              TRUE\n",
      "htmltools     0.5.1.1  0.5.7              TRUE\n",
      "rematch         1.0.1  2.0.0             FALSE\n",
      "processx        3.5.2  3.8.2              TRUE\n",
      "xfun             0.22   0.41              TRUE\n",
      "bslib           0.2.4  0.5.1             FALSE\n",
      "tinytex          0.31   0.48             FALSE\n",
      "backports       1.2.1  1.4.1              TRUE\n",
      "lifecycle       1.0.0  1.0.4             FALSE\n",
      "blob            1.2.1  1.2.4             FALSE\n",
      "glue            1.4.2  1.6.2              TRUE\n",
      "tidyselect      1.1.1  1.2.0             FALSE\n",
      "vctrs           0.3.8  0.6.4              TRUE\n",
      "gtable          0.3.0  0.3.4             FALSE\n",
      "scales          1.1.1  1.2.1             FALSE\n",
      "gargle          1.1.0  1.5.2             FALSE\n",
      "timechange      0.0.2  0.2.0              TRUE\n",
      "systemfonts     1.0.2  1.0.5              TRUE\n",
      "clipr           0.7.1  0.8.0             FALSE\n",
      "vroom           1.4.0  1.6.4              TRUE\n",
      "tzdb            0.1.1  0.4.0              TRUE\n",
      "callr           3.7.0  3.7.3             FALSE\n",
      "knitr            1.33   1.45             FALSE\n",
      "rmarkdown         2.8   2.25             FALSE\n",
      "broom           0.7.6  1.0.5             FALSE\n",
      "conflicted      1.0.4  1.2.0             FALSE\n",
      "cli             2.5.0  3.6.1              TRUE\n",
      "dbplyr          2.1.1  2.4.0             FALSE\n",
      "dplyr           1.0.6  1.1.3              TRUE\n",
      "dtplyr          1.1.0  1.3.1             FALSE\n",
      "forcats         0.5.1  1.0.0             FALSE\n",
      "ggplot2         3.3.3  3.4.4             FALSE\n",
      "googledrive     1.0.1  2.1.1             FALSE\n",
      "googlesheets4   0.3.0  1.1.1             FALSE\n",
      "haven           2.4.1  2.5.3              TRUE\n",
      "hms             1.0.0  1.1.3             FALSE\n",
      "jsonlite        1.7.2  1.8.7              TRUE\n",
      "lubridate      1.7.10  1.9.3              TRUE\n",
      "magrittr        2.0.1  2.0.3              TRUE\n",
      "modelr          0.1.8 0.1.11             FALSE\n",
      "pillar          1.6.0  1.9.0             FALSE\n",
      "purrr           0.3.4  1.0.2              TRUE\n",
      "ragg            1.1.2  1.2.6              TRUE\n",
      "readr           1.4.0  2.1.4              TRUE\n",
      "readxl          1.3.1  1.4.3              TRUE\n",
      "reprex          2.0.0  2.0.2             FALSE\n",
      "rlang          0.4.11  1.1.2              TRUE\n",
      "rstudioapi       0.13 0.15.0             FALSE\n",
      "rvest           1.0.0  1.0.3             FALSE\n",
      "stringr         1.4.0  1.5.0             FALSE\n",
      "tibble          3.1.1  3.2.1              TRUE\n",
      "tidyr           1.1.3  1.3.0              TRUE\n",
      "xml2            1.3.2  1.3.5              TRUE\n",
      "tidyverse       1.3.1  2.0.0             FALSE\n",
      "\n",
      "  Binaries will be installed\n",
      "package 'bit' successfully unpacked and MD5 sums checked\n",
      "package 'htmltools' successfully unpacked and MD5 sums checked\n"
     ]
    },
    {
     "name": "stderr",
     "output_type": "stream",
     "text": [
      "Warning message:\n",
      "\"cannot remove prior installation of package 'htmltools'\"Warning message in file.copy(savedcopy, lib, recursive = TRUE):\n",
      "\"problem copying C:\\Users\\justi\\anaconda3\\envs\\r-kernel\\lib\\R\\library\\00LOCK\\htmltools\\libs\\x64\\htmltools.dll to C:\\Users\\justi\\anaconda3\\envs\\r-kernel\\lib\\R\\library\\htmltools\\libs\\x64\\htmltools.dll: Permission denied\"Warning message:\n",
      "\"restored 'htmltools'\""
     ]
    },
    {
     "name": "stdout",
     "output_type": "stream",
     "text": [
      "package 'bit64' successfully unpacked and MD5 sums checked\n",
      "package 'processx' successfully unpacked and MD5 sums checked\n",
      "package 'xfun' successfully unpacked and MD5 sums checked\n",
      "package 'backports' successfully unpacked and MD5 sums checked\n",
      "package 'glue' successfully unpacked and MD5 sums checked\n",
      "package 'vctrs' successfully unpacked and MD5 sums checked\n",
      "package 'cellranger' successfully unpacked and MD5 sums checked\n",
      "package 'ids' successfully unpacked and MD5 sums checked\n",
      "package 'timechange' successfully unpacked and MD5 sums checked\n",
      "package 'systemfonts' successfully unpacked and MD5 sums checked\n",
      "package 'vroom' successfully unpacked and MD5 sums checked\n",
      "package 'tzdb' successfully unpacked and MD5 sums checked\n",
      "package 'progress' successfully unpacked and MD5 sums checked\n",
      "package 'selectr' successfully unpacked and MD5 sums checked\n",
      "package 'cli' successfully unpacked and MD5 sums checked\n",
      "package 'dplyr' successfully unpacked and MD5 sums checked\n",
      "package 'haven' successfully unpacked and MD5 sums checked\n",
      "package 'jsonlite' successfully unpacked and MD5 sums checked\n"
     ]
    },
    {
     "name": "stderr",
     "output_type": "stream",
     "text": [
      "Warning message:\n",
      "\"cannot remove prior installation of package 'jsonlite'\"Warning message in file.copy(savedcopy, lib, recursive = TRUE):\n",
      "\"problem copying C:\\Users\\justi\\anaconda3\\envs\\r-kernel\\lib\\R\\library\\00LOCK\\jsonlite\\libs\\x64\\jsonlite.dll to C:\\Users\\justi\\anaconda3\\envs\\r-kernel\\lib\\R\\library\\jsonlite\\libs\\x64\\jsonlite.dll: Permission denied\"Warning message:\n",
      "\"restored 'jsonlite'\""
     ]
    },
    {
     "name": "stdout",
     "output_type": "stream",
     "text": [
      "package 'lubridate' successfully unpacked and MD5 sums checked\n",
      "package 'magrittr' successfully unpacked and MD5 sums checked\n",
      "package 'purrr' successfully unpacked and MD5 sums checked\n",
      "package 'ragg' successfully unpacked and MD5 sums checked\n",
      "package 'readr' successfully unpacked and MD5 sums checked\n",
      "package 'readxl' successfully unpacked and MD5 sums checked\n",
      "package 'rlang' successfully unpacked and MD5 sums checked\n"
     ]
    },
    {
     "name": "stderr",
     "output_type": "stream",
     "text": [
      "Warning message:\n",
      "\"cannot remove prior installation of package 'rlang'\"Warning message in file.copy(savedcopy, lib, recursive = TRUE):\n",
      "\"problem copying C:\\Users\\justi\\anaconda3\\envs\\r-kernel\\lib\\R\\library\\00LOCK\\rlang\\libs\\x64\\rlang.dll to C:\\Users\\justi\\anaconda3\\envs\\r-kernel\\lib\\R\\library\\rlang\\libs\\x64\\rlang.dll: Permission denied\"Warning message:\n",
      "\"restored 'rlang'\""
     ]
    },
    {
     "name": "stdout",
     "output_type": "stream",
     "text": [
      "package 'tibble' successfully unpacked and MD5 sums checked\n",
      "package 'tidyr' successfully unpacked and MD5 sums checked\n",
      "package 'xml2' successfully unpacked and MD5 sums checked\n",
      "\n",
      "The downloaded binary packages are in\n",
      "\tC:\\Users\\justi\\AppData\\Local\\Temp\\RtmpOAzEwa\\downloaded_packages\n"
     ]
    },
    {
     "name": "stderr",
     "output_type": "stream",
     "text": [
      "installing the source packages 'rematch', 'bslib', 'tinytex', 'lifecycle', 'blob', 'tidyselect', 'gtable', 'scales', 'gargle', 'clipr', 'callr', 'knitr', 'rmarkdown', 'broom', 'conflicted', 'dbplyr', 'dtplyr', 'forcats', 'ggplot2', 'googledrive', 'googlesheets4', 'hms', 'modelr', 'pillar', 'reprex', 'rstudioapi', 'rvest', 'stringr', 'tidyverse'\n",
      "\n",
      "Warning message in install.packages(\"tidyverse\"):\n",
      "\"installation of package 'bslib' had non-zero exit status\"Warning message in install.packages(\"tidyverse\"):\n",
      "\"installation of package 'tinytex' had non-zero exit status\"Warning message in install.packages(\"tidyverse\"):\n",
      "\"installation of package 'lifecycle' had non-zero exit status\"Warning message in install.packages(\"tidyverse\"):\n",
      "\"installation of package 'callr' had non-zero exit status\"Warning message in install.packages(\"tidyverse\"):\n",
      "\"installation of package 'knitr' had non-zero exit status\"Warning message in install.packages(\"tidyverse\"):\n",
      "\"installation of package 'conflicted' had non-zero exit status\"Warning message in install.packages(\"tidyverse\"):\n",
      "\"installation of package 'tidyselect' had non-zero exit status\"Warning message in install.packages(\"tidyverse\"):\n",
      "\"installation of package 'gtable' had non-zero exit status\"Warning message in install.packages(\"tidyverse\"):\n",
      "\"installation of package 'scales' had non-zero exit status\"Warning message in install.packages(\"tidyverse\"):\n",
      "\"installation of package 'gargle' had non-zero exit status\"Warning message in install.packages(\"tidyverse\"):\n",
      "\"installation of package 'forcats' had non-zero exit status\"Warning message in install.packages(\"tidyverse\"):\n",
      "\"installation of package 'hms' had non-zero exit status\"Warning message in install.packages(\"tidyverse\"):\n",
      "\"installation of package 'pillar' had non-zero exit status\"Warning message in install.packages(\"tidyverse\"):\n",
      "\"installation of package 'rvest' had non-zero exit status\"Warning message in install.packages(\"tidyverse\"):\n",
      "\"installation of package 'stringr' had non-zero exit status\"Warning message in install.packages(\"tidyverse\"):\n",
      "\"installation of package 'rmarkdown' had non-zero exit status\"Warning message in install.packages(\"tidyverse\"):\n",
      "\"installation of package 'broom' had non-zero exit status\"Warning message in install.packages(\"tidyverse\"):\n",
      "\"installation of package 'dbplyr' had non-zero exit status\"Warning message in install.packages(\"tidyverse\"):\n",
      "\"installation of package 'dtplyr' had non-zero exit status\"Warning message in install.packages(\"tidyverse\"):\n",
      "\"installation of package 'ggplot2' had non-zero exit status\"Warning message in install.packages(\"tidyverse\"):\n",
      "\"installation of package 'googledrive' had non-zero exit status\"Warning message in install.packages(\"tidyverse\"):\n",
      "\"installation of package 'googlesheets4' had non-zero exit status\"Warning message in install.packages(\"tidyverse\"):\n",
      "\"installation of package 'modelr' had non-zero exit status\"Warning message in install.packages(\"tidyverse\"):\n",
      "\"installation of package 'reprex' had non-zero exit status\"Warning message in install.packages(\"tidyverse\"):\n",
      "\"installation of package 'tidyverse' had non-zero exit status\"also installing the dependencies 'shape', 'future.apply', 'numDeriv', 'progressr', 'SQUAREM', 'diagram', 'lava', 'tzdb', 'prodlim', 'globals', 'htmltools', 'later', 'listenv', 'parallelly', 'processx', 'xfun', 'bslib', 'tinytex', 'clock', 'gower', 'hardhat', 'ipred', 'furrr', 'htmlwidgets', 'crosstalk', 'promises', 'warp', 'BH', 'fracdiff', 'lmtest', 'tseries', 'urca', 'RcppArmadillo', 'RcppRoll', 'future', 'gargle', 'timechange', 'systemfonts', 'vroom', 'callr', 'knitr', 'rmarkdown', 'quadprog', 'gtable', 'lifecycle', 'rlang', 'scales', 'vctrs', 'glue', 'recipes', 'rsample', 'forcats', 'plotly', 'padr', 'slider', 'anytime', 'forecast', 'tsfeatures', 'hms', 'broom', 'conflicted', 'cli', 'dbplyr', 'dplyr', 'dtplyr', 'googledrive', 'googlesheets4', 'haven', 'jsonlite', 'lubridate', 'magrittr', 'modelr', 'pillar', 'purrr', 'ragg', 'readr', 'readxl', 'reprex', 'rvest', 'tibble', 'tidyr', 'xml2', 'PerformanceAnalytics', 'quantmod', 'ggplot2', 'Quandl', 'riingo', 'alphavantager', 'stringr', 'timetk', 'timeDate', 'TTR', 'xts', 'tidyverse', 'tidyselect'\n",
      "\n"
     ]
    },
    {
     "name": "stdout",
     "output_type": "stream",
     "text": [
      "\n",
      "  There are binary versions available but the source versions are later:\n",
      "                  binary     source needs_compilation\n",
      "shape              1.4.5      1.4.6             FALSE\n",
      "future.apply       1.7.0     1.11.0             FALSE\n",
      "progressr          0.7.0     0.14.0             FALSE\n",
      "lava               1.6.9      1.7.3             FALSE\n",
      "tzdb               0.1.1      0.4.0              TRUE\n",
      "prodlim       2019.11.13 2023.08.28              TRUE\n",
      "globals           0.14.0     0.16.2             FALSE\n",
      "htmltools        0.5.1.1      0.5.7              TRUE\n",
      "later              1.2.0      1.3.1              TRUE\n",
      "listenv            0.8.0      0.9.0             FALSE\n",
      "parallelly        1.25.0     1.36.0             FALSE\n",
      "processx           3.5.2      3.8.2              TRUE\n",
      "xfun                0.22       0.41              TRUE\n",
      "bslib              0.2.4      0.5.1             FALSE\n",
      "tinytex             0.31       0.48             FALSE\n",
      "clock              0.3.0      0.7.0              TRUE\n",
      "gower              0.2.2      1.0.1              TRUE\n",
      "hardhat            0.1.5      1.3.0             FALSE\n",
      "ipred             0.9-11     0.9-14              TRUE\n",
      "furrr              0.2.2      0.3.1             FALSE\n",
      "htmlwidgets        1.5.3      1.6.2             FALSE\n",
      "crosstalk          1.1.1      1.2.0             FALSE\n",
      "promises         1.2.0.1      1.2.1              TRUE\n",
      "warp               0.2.0      0.2.1              TRUE\n",
      "BH              1.75.0-0   1.81.0-1             FALSE\n",
      "fracdiff           1.5-1      1.5-2              TRUE\n",
      "lmtest            0.9-38     0.9-40              TRUE\n",
      "tseries          0.10-48    0.10-54              TRUE\n",
      "urca               1.3-0      1.3-3              TRUE\n",
      "RcppArmadillo 0.10.4.0.0 0.12.6.6.0              TRUE\n",
      "future            1.21.0     1.33.0             FALSE\n",
      "gargle             1.1.0      1.5.2             FALSE\n",
      "timechange         0.0.2      0.2.0              TRUE\n",
      "systemfonts        1.0.2      1.0.5              TRUE\n",
      "vroom              1.4.0      1.6.4              TRUE\n",
      "callr              3.7.0      3.7.3             FALSE\n",
      "knitr               1.33       1.45             FALSE\n",
      "rmarkdown            2.8       2.25             FALSE\n",
      "gtable             0.3.0      0.3.4             FALSE\n",
      "lifecycle          1.0.0      1.0.4             FALSE\n",
      "rlang             0.4.11      1.1.2              TRUE\n",
      "scales             1.1.1      1.2.1             FALSE\n",
      "vctrs              0.3.8      0.6.4              TRUE\n",
      "glue               1.4.2      1.6.2              TRUE\n",
      "recipes           0.1.16      1.0.8             FALSE\n",
      "rsample            0.1.0      1.2.0             FALSE\n",
      "forcats            0.5.1      1.0.0             FALSE\n",
      "plotly             4.9.3     4.10.3             FALSE\n",
      "padr               0.5.3      0.6.2              TRUE\n",
      "slider             0.2.1      0.3.1              TRUE\n",
      "forecast            8.14     8.21.1              TRUE\n",
      "tsfeatures         1.0.2      1.1.1             FALSE\n",
      "hms                1.0.0      1.1.3             FALSE\n",
      "broom              0.7.6      1.0.5             FALSE\n",
      "conflicted         1.0.4      1.2.0             FALSE\n",
      "cli                2.5.0      3.6.1              TRUE\n",
      "dbplyr             2.1.1      2.4.0             FALSE\n",
      "dplyr              1.0.6      1.1.3              TRUE\n",
      "dtplyr             1.1.0      1.3.1             FALSE\n",
      "googledrive        1.0.1      2.1.1             FALSE\n",
      "googlesheets4      0.3.0      1.1.1             FALSE\n",
      "haven              2.4.1      2.5.3              TRUE\n",
      "jsonlite           1.7.2      1.8.7              TRUE\n",
      "lubridate         1.7.10      1.9.3              TRUE\n",
      "magrittr           2.0.1      2.0.3              TRUE\n",
      "modelr             0.1.8     0.1.11             FALSE\n",
      "pillar             1.6.0      1.9.0             FALSE\n",
      "purrr              0.3.4      1.0.2              TRUE\n",
      "ragg               1.1.2      1.2.6              TRUE\n",
      "readr              1.4.0      2.1.4              TRUE\n",
      "readxl             1.3.1      1.4.3              TRUE\n",
      "reprex             2.0.0      2.0.2             FALSE\n",
      "rvest              1.0.0      1.0.3             FALSE\n",
      "tibble             3.1.1      3.2.1              TRUE\n",
      "tidyr              1.1.3      1.3.0              TRUE\n",
      "xml2               1.3.2      1.3.5              TRUE\n",
      "quantmod          0.4.18     0.4.25             FALSE\n",
      "ggplot2            3.3.3      3.4.4             FALSE\n",
      "Quandl            2.10.0     2.11.0             FALSE\n",
      "alphavantager      0.1.2      0.1.3             FALSE\n",
      "stringr            1.4.0      1.5.0             FALSE\n",
      "timetk             2.6.1      2.9.0             FALSE\n",
      "timeDate        3043.102   4022.108             FALSE\n",
      "TTR               0.24.2     0.24.3              TRUE\n",
      "xts               0.12.1     0.13.1              TRUE\n",
      "tidyverse          1.3.1      2.0.0             FALSE\n",
      "tidyselect         1.1.1      1.2.0             FALSE\n",
      "tidyquant          1.0.3      1.0.7             FALSE\n",
      "\n",
      "  Binaries will be installed\n",
      "package 'numDeriv' successfully unpacked and MD5 sums checked\n",
      "package 'SQUAREM' successfully unpacked and MD5 sums checked\n",
      "package 'diagram' successfully unpacked and MD5 sums checked\n",
      "package 'tzdb' successfully unpacked and MD5 sums checked\n",
      "package 'prodlim' successfully unpacked and MD5 sums checked\n",
      "package 'htmltools' successfully unpacked and MD5 sums checked\n"
     ]
    },
    {
     "name": "stderr",
     "output_type": "stream",
     "text": [
      "Warning message:\n",
      "\"cannot remove prior installation of package 'htmltools'\"Warning message in file.copy(savedcopy, lib, recursive = TRUE):\n",
      "\"problem copying C:\\Users\\justi\\anaconda3\\envs\\r-kernel\\lib\\R\\library\\00LOCK\\htmltools\\libs\\x64\\htmltools.dll to C:\\Users\\justi\\anaconda3\\envs\\r-kernel\\lib\\R\\library\\htmltools\\libs\\x64\\htmltools.dll: Permission denied\"Warning message:\n",
      "\"restored 'htmltools'\""
     ]
    },
    {
     "name": "stdout",
     "output_type": "stream",
     "text": [
      "package 'later' successfully unpacked and MD5 sums checked\n",
      "package 'processx' successfully unpacked and MD5 sums checked\n",
      "package 'xfun' successfully unpacked and MD5 sums checked\n",
      "package 'clock' successfully unpacked and MD5 sums checked\n",
      "package 'gower' successfully unpacked and MD5 sums checked\n",
      "package 'ipred' successfully unpacked and MD5 sums checked\n",
      "package 'promises' successfully unpacked and MD5 sums checked\n",
      "package 'warp' successfully unpacked and MD5 sums checked\n",
      "package 'fracdiff' successfully unpacked and MD5 sums checked\n",
      "package 'lmtest' successfully unpacked and MD5 sums checked\n",
      "package 'tseries' successfully unpacked and MD5 sums checked\n",
      "package 'urca' successfully unpacked and MD5 sums checked\n",
      "package 'RcppArmadillo' successfully unpacked and MD5 sums checked\n",
      "package 'RcppRoll' successfully unpacked and MD5 sums checked\n",
      "package 'timechange' successfully unpacked and MD5 sums checked\n",
      "package 'systemfonts' successfully unpacked and MD5 sums checked\n",
      "package 'vroom' successfully unpacked and MD5 sums checked\n",
      "package 'quadprog' successfully unpacked and MD5 sums checked\n",
      "package 'rlang' successfully unpacked and MD5 sums checked\n"
     ]
    },
    {
     "name": "stderr",
     "output_type": "stream",
     "text": [
      "Warning message:\n",
      "\"cannot remove prior installation of package 'rlang'\"Warning message in file.copy(savedcopy, lib, recursive = TRUE):\n",
      "\"problem copying C:\\Users\\justi\\anaconda3\\envs\\r-kernel\\lib\\R\\library\\00LOCK\\rlang\\libs\\x64\\rlang.dll to C:\\Users\\justi\\anaconda3\\envs\\r-kernel\\lib\\R\\library\\rlang\\libs\\x64\\rlang.dll: Permission denied\"Warning message:\n",
      "\"restored 'rlang'\""
     ]
    },
    {
     "name": "stdout",
     "output_type": "stream",
     "text": [
      "package 'vctrs' successfully unpacked and MD5 sums checked\n",
      "package 'glue' successfully unpacked and MD5 sums checked\n",
      "package 'padr' successfully unpacked and MD5 sums checked\n",
      "package 'slider' successfully unpacked and MD5 sums checked\n",
      "package 'anytime' successfully unpacked and MD5 sums checked\n",
      "package 'forecast' successfully unpacked and MD5 sums checked\n",
      "package 'cli' successfully unpacked and MD5 sums checked\n",
      "package 'dplyr' successfully unpacked and MD5 sums checked\n",
      "package 'haven' successfully unpacked and MD5 sums checked\n",
      "package 'jsonlite' successfully unpacked and MD5 sums checked\n"
     ]
    },
    {
     "name": "stderr",
     "output_type": "stream",
     "text": [
      "Warning message:\n",
      "\"cannot remove prior installation of package 'jsonlite'\"Warning message in file.copy(savedcopy, lib, recursive = TRUE):\n",
      "\"problem copying C:\\Users\\justi\\anaconda3\\envs\\r-kernel\\lib\\R\\library\\00LOCK\\jsonlite\\libs\\x64\\jsonlite.dll to C:\\Users\\justi\\anaconda3\\envs\\r-kernel\\lib\\R\\library\\jsonlite\\libs\\x64\\jsonlite.dll: Permission denied\"Warning message:\n",
      "\"restored 'jsonlite'\""
     ]
    },
    {
     "name": "stdout",
     "output_type": "stream",
     "text": [
      "package 'lubridate' successfully unpacked and MD5 sums checked\n",
      "package 'magrittr' successfully unpacked and MD5 sums checked\n",
      "package 'purrr' successfully unpacked and MD5 sums checked\n",
      "package 'ragg' successfully unpacked and MD5 sums checked\n",
      "package 'readr' successfully unpacked and MD5 sums checked\n",
      "package 'readxl' successfully unpacked and MD5 sums checked\n",
      "package 'tibble' successfully unpacked and MD5 sums checked\n",
      "package 'tidyr' successfully unpacked and MD5 sums checked\n",
      "package 'xml2' successfully unpacked and MD5 sums checked\n",
      "package 'PerformanceAnalytics' successfully unpacked and MD5 sums checked\n",
      "package 'riingo' successfully unpacked and MD5 sums checked\n",
      "package 'TTR' successfully unpacked and MD5 sums checked\n",
      "package 'xts' successfully unpacked and MD5 sums checked\n",
      "\n",
      "The downloaded binary packages are in\n",
      "\tC:\\Users\\justi\\AppData\\Local\\Temp\\RtmpOAzEwa\\downloaded_packages\n"
     ]
    },
    {
     "name": "stderr",
     "output_type": "stream",
     "text": [
      "installing the source packages 'shape', 'future.apply', 'progressr', 'lava', 'globals', 'listenv', 'parallelly', 'bslib', 'tinytex', 'hardhat', 'furrr', 'htmlwidgets', 'crosstalk', 'BH', 'future', 'gargle', 'callr', 'knitr', 'rmarkdown', 'gtable', 'lifecycle', 'scales', 'recipes', 'rsample', 'forcats', 'plotly', 'tsfeatures', 'hms', 'broom', 'conflicted', 'dbplyr', 'dtplyr', 'googledrive', 'googlesheets4', 'modelr', 'pillar', 'reprex', 'rvest', 'quantmod', 'ggplot2', 'Quandl', 'alphavantager', 'stringr', 'timetk', 'timeDate', 'tidyverse', 'tidyselect', 'tidyquant'\n",
      "\n",
      "Warning message in install.packages(\"tidyquant\"):\n",
      "\"installation of package 'bslib' had non-zero exit status\"Warning message in install.packages(\"tidyquant\"):\n",
      "\"installation of package 'tinytex' had non-zero exit status\"Warning message in install.packages(\"tidyquant\"):\n",
      "\"installation of package 'hardhat' had non-zero exit status\"Warning message in install.packages(\"tidyquant\"):\n",
      "\"installation of package 'callr' had non-zero exit status\"Warning message in install.packages(\"tidyquant\"):\n",
      "\"installation of package 'knitr' had non-zero exit status\"Warning message in install.packages(\"tidyquant\"):\n",
      "\"installation of package 'lifecycle' had non-zero exit status\"Warning message in install.packages(\"tidyquant\"):\n",
      "\"installation of package 'conflicted' had non-zero exit status\"Warning message in install.packages(\"tidyquant\"):\n",
      "\"installation of package 'gargle' had non-zero exit status\"Warning message in install.packages(\"tidyquant\"):\n",
      "\"installation of package 'gtable' had non-zero exit status\"Warning message in install.packages(\"tidyquant\"):\n",
      "\"installation of package 'scales' had non-zero exit status\"Warning message in install.packages(\"tidyquant\"):\n",
      "\"installation of package 'forcats' had non-zero exit status\"Warning message in install.packages(\"tidyquant\"):\n",
      "\"installation of package 'hms' had non-zero exit status\"Warning message in install.packages(\"tidyquant\"):\n",
      "\"installation of package 'pillar' had non-zero exit status\"Warning message in install.packages(\"tidyquant\"):\n",
      "\"installation of package 'rvest' had non-zero exit status\"Warning message in install.packages(\"tidyquant\"):\n",
      "\"installation of package 'stringr' had non-zero exit status\"Warning message in install.packages(\"tidyquant\"):\n",
      "\"installation of package 'tidyselect' had non-zero exit status\"Warning message in install.packages(\"tidyquant\"):\n",
      "\"installation of package 'furrr' had non-zero exit status\"Warning message in install.packages(\"tidyquant\"):\n",
      "\"installation of package 'rmarkdown' had non-zero exit status\"Warning message in install.packages(\"tidyquant\"):\n",
      "\"installation of package 'recipes' had non-zero exit status\"Warning message in install.packages(\"tidyquant\"):\n",
      "\"installation of package 'broom' had non-zero exit status\"Warning message in install.packages(\"tidyquant\"):\n",
      "\"installation of package 'dbplyr' had non-zero exit status\"Warning message in install.packages(\"tidyquant\"):\n",
      "\"installation of package 'dtplyr' had non-zero exit status\"Warning message in install.packages(\"tidyquant\"):\n",
      "\"installation of package 'googledrive' had non-zero exit status\"Warning message in install.packages(\"tidyquant\"):\n",
      "\"installation of package 'ggplot2' had non-zero exit status\"Warning message in install.packages(\"tidyquant\"):\n",
      "\"installation of package 'htmlwidgets' had non-zero exit status\"Warning message in install.packages(\"tidyquant\"):\n",
      "\"installation of package 'rsample' had non-zero exit status\"Warning message in install.packages(\"tidyquant\"):\n",
      "\"installation of package 'tsfeatures' had non-zero exit status\"Warning message in install.packages(\"tidyquant\"):\n",
      "\"installation of package 'googlesheets4' had non-zero exit status\"Warning message in install.packages(\"tidyquant\"):\n",
      "\"installation of package 'modelr' had non-zero exit status\"Warning message in install.packages(\"tidyquant\"):\n",
      "\"installation of package 'reprex' had non-zero exit status\"Warning message in install.packages(\"tidyquant\"):\n",
      "\"installation of package 'plotly' had non-zero exit status\"Warning message in install.packages(\"tidyquant\"):\n",
      "\"installation of package 'tidyverse' had non-zero exit status\"Warning message in install.packages(\"tidyquant\"):\n",
      "\"installation of package 'timetk' had non-zero exit status\"Warning message in install.packages(\"tidyquant\"):\n",
      "\"installation of package 'alphavantager' had non-zero exit status\"Warning message in install.packages(\"tidyquant\"):\n",
      "\"installation of package 'tidyquant' had non-zero exit status\"also installing the dependencies 'cli', 'rlang', 'tibble', 'tidyselect', 'gtable', 'scales', 'glue', 'stringr', 'dplyr', 'ggplot2', 'hardhat', 'lifecycle', 'pillar', 'purrr', 'tidyr', 'vctrs'\n",
      "\n"
     ]
    },
    {
     "name": "stdout",
     "output_type": "stream",
     "text": [
      "\n",
      "  There are binary versions available but the source versions are later:\n",
      "           binary source needs_compilation\n",
      "cli         2.5.0  3.6.1              TRUE\n",
      "rlang      0.4.11  1.1.2              TRUE\n",
      "tibble      3.1.1  3.2.1              TRUE\n",
      "tidyselect  1.1.1  1.2.0             FALSE\n",
      "gtable      0.3.0  0.3.4             FALSE\n",
      "scales      1.1.1  1.2.1             FALSE\n",
      "glue        1.4.2  1.6.2              TRUE\n",
      "stringr     1.4.0  1.5.0             FALSE\n",
      "dplyr       1.0.6  1.1.3              TRUE\n",
      "ggplot2     3.3.3  3.4.4             FALSE\n",
      "hardhat     0.1.5  1.3.0             FALSE\n",
      "lifecycle   1.0.0  1.0.4             FALSE\n",
      "pillar      1.6.0  1.9.0             FALSE\n",
      "purrr       0.3.4  1.0.2              TRUE\n",
      "tidyr       1.1.3  1.3.0              TRUE\n",
      "vctrs       0.3.8  0.6.4              TRUE\n",
      "parsnip     0.1.5  1.1.1             FALSE\n",
      "\n",
      "  Binaries will be installed\n",
      "package 'cli' successfully unpacked and MD5 sums checked\n",
      "package 'rlang' successfully unpacked and MD5 sums checked\n"
     ]
    },
    {
     "name": "stderr",
     "output_type": "stream",
     "text": [
      "Warning message:\n",
      "\"cannot remove prior installation of package 'rlang'\"Warning message in file.copy(savedcopy, lib, recursive = TRUE):\n",
      "\"problem copying C:\\Users\\justi\\anaconda3\\envs\\r-kernel\\lib\\R\\library\\00LOCK\\rlang\\libs\\x64\\rlang.dll to C:\\Users\\justi\\anaconda3\\envs\\r-kernel\\lib\\R\\library\\rlang\\libs\\x64\\rlang.dll: Permission denied\"Warning message:\n",
      "\"restored 'rlang'\""
     ]
    },
    {
     "name": "stdout",
     "output_type": "stream",
     "text": [
      "package 'tibble' successfully unpacked and MD5 sums checked\n",
      "package 'glue' successfully unpacked and MD5 sums checked\n",
      "package 'dplyr' successfully unpacked and MD5 sums checked\n",
      "package 'purrr' successfully unpacked and MD5 sums checked\n",
      "package 'tidyr' successfully unpacked and MD5 sums checked\n",
      "package 'vctrs' successfully unpacked and MD5 sums checked\n",
      "\n",
      "The downloaded binary packages are in\n",
      "\tC:\\Users\\justi\\AppData\\Local\\Temp\\RtmpOAzEwa\\downloaded_packages\n"
     ]
    },
    {
     "name": "stderr",
     "output_type": "stream",
     "text": [
      "installing the source packages 'tidyselect', 'gtable', 'scales', 'stringr', 'ggplot2', 'hardhat', 'lifecycle', 'pillar', 'parsnip'\n",
      "\n",
      "Warning message in install.packages(\"parsnip\"):\n",
      "\"installation of package 'hardhat' had non-zero exit status\"Warning message in install.packages(\"parsnip\"):\n",
      "\"installation of package 'lifecycle' had non-zero exit status\"Warning message in install.packages(\"parsnip\"):\n",
      "\"installation of package 'tidyselect' had non-zero exit status\"Warning message in install.packages(\"parsnip\"):\n",
      "\"installation of package 'gtable' had non-zero exit status\"Warning message in install.packages(\"parsnip\"):\n",
      "\"installation of package 'scales' had non-zero exit status\"Warning message in install.packages(\"parsnip\"):\n",
      "\"installation of package 'stringr' had non-zero exit status\"Warning message in install.packages(\"parsnip\"):\n",
      "\"installation of package 'pillar' had non-zero exit status\"Warning message in install.packages(\"parsnip\"):\n",
      "\"installation of package 'ggplot2' had non-zero exit status\"Warning message in install.packages(\"parsnip\"):\n",
      "\"installation of package 'parsnip' had non-zero exit status\"also installing the dependencies 'cli', 'rlang', 'tibble', 'dplyr', 'furrr', 'lifecycle', 'pillar', 'purrr', 'tidyselect', 'vctrs'\n",
      "\n"
     ]
    },
    {
     "name": "stdout",
     "output_type": "stream",
     "text": [
      "\n",
      "  There are binary versions available but the source versions are later:\n",
      "           binary source needs_compilation\n",
      "cli         2.5.0  3.6.1              TRUE\n",
      "rlang      0.4.11  1.1.2              TRUE\n",
      "tibble      3.1.1  3.2.1              TRUE\n",
      "dplyr       1.0.6  1.1.3              TRUE\n",
      "furrr       0.2.2  0.3.1             FALSE\n",
      "lifecycle   1.0.0  1.0.4             FALSE\n",
      "pillar      1.6.0  1.9.0             FALSE\n",
      "purrr       0.3.4  1.0.2              TRUE\n",
      "tidyselect  1.1.1  1.2.0             FALSE\n",
      "vctrs       0.3.8  0.6.4              TRUE\n",
      "rsample     0.1.0  1.2.0             FALSE\n",
      "\n",
      "  Binaries will be installed\n",
      "package 'cli' successfully unpacked and MD5 sums checked\n",
      "package 'rlang' successfully unpacked and MD5 sums checked\n"
     ]
    },
    {
     "name": "stderr",
     "output_type": "stream",
     "text": [
      "Warning message:\n",
      "\"cannot remove prior installation of package 'rlang'\"Warning message in file.copy(savedcopy, lib, recursive = TRUE):\n",
      "\"problem copying C:\\Users\\justi\\anaconda3\\envs\\r-kernel\\lib\\R\\library\\00LOCK\\rlang\\libs\\x64\\rlang.dll to C:\\Users\\justi\\anaconda3\\envs\\r-kernel\\lib\\R\\library\\rlang\\libs\\x64\\rlang.dll: Permission denied\"Warning message:\n",
      "\"restored 'rlang'\""
     ]
    },
    {
     "name": "stdout",
     "output_type": "stream",
     "text": [
      "package 'tibble' successfully unpacked and MD5 sums checked\n",
      "package 'dplyr' successfully unpacked and MD5 sums checked\n",
      "package 'purrr' successfully unpacked and MD5 sums checked\n",
      "package 'vctrs' successfully unpacked and MD5 sums checked\n",
      "\n",
      "The downloaded binary packages are in\n",
      "\tC:\\Users\\justi\\AppData\\Local\\Temp\\RtmpOAzEwa\\downloaded_packages\n"
     ]
    },
    {
     "name": "stderr",
     "output_type": "stream",
     "text": [
      "installing the source packages 'furrr', 'lifecycle', 'pillar', 'tidyselect', 'rsample'\n",
      "\n",
      "Warning message in install.packages(\"rsample\"):\n",
      "\"installation of package 'lifecycle' had non-zero exit status\"Warning message in install.packages(\"rsample\"):\n",
      "\"installation of package 'furrr' had non-zero exit status\"Warning message in install.packages(\"rsample\"):\n",
      "\"installation of package 'pillar' had non-zero exit status\"Warning message in install.packages(\"rsample\"):\n",
      "\"installation of package 'tidyselect' had non-zero exit status\"Warning message in install.packages(\"rsample\"):\n",
      "\"installation of package 'rsample' had non-zero exit status\"also installing the dependencies 'cli', 'pillar', 'tibble', 'tzdb', 'glue', 'timechange', 'dplyr', 'clock', 'hardhat', 'ipred', 'lifecycle', 'lubridate', 'purrr', 'rlang', 'tidyselect', 'vctrs'\n",
      "\n"
     ]
    },
    {
     "name": "stdout",
     "output_type": "stream",
     "text": [
      "\n",
      "  There are binary versions available but the source versions are later:\n",
      "           binary source needs_compilation\n",
      "cli         2.5.0  3.6.1              TRUE\n",
      "pillar      1.6.0  1.9.0             FALSE\n",
      "tibble      3.1.1  3.2.1              TRUE\n",
      "tzdb        0.1.1  0.4.0              TRUE\n",
      "glue        1.4.2  1.6.2              TRUE\n",
      "timechange  0.0.2  0.2.0              TRUE\n",
      "dplyr       1.0.6  1.1.3              TRUE\n",
      "clock       0.3.0  0.7.0              TRUE\n",
      "hardhat     0.1.5  1.3.0             FALSE\n",
      "ipred      0.9-11 0.9-14              TRUE\n",
      "lifecycle   1.0.0  1.0.4             FALSE\n",
      "lubridate  1.7.10  1.9.3              TRUE\n",
      "purrr       0.3.4  1.0.2              TRUE\n",
      "rlang      0.4.11  1.1.2              TRUE\n",
      "tidyselect  1.1.1  1.2.0             FALSE\n",
      "vctrs       0.3.8  0.6.4              TRUE\n",
      "recipes    0.1.16  1.0.8             FALSE\n",
      "\n",
      "  Binaries will be installed\n",
      "package 'cli' successfully unpacked and MD5 sums checked\n",
      "package 'tibble' successfully unpacked and MD5 sums checked\n",
      "package 'tzdb' successfully unpacked and MD5 sums checked\n",
      "package 'glue' successfully unpacked and MD5 sums checked\n",
      "package 'timechange' successfully unpacked and MD5 sums checked\n",
      "package 'dplyr' successfully unpacked and MD5 sums checked\n",
      "package 'clock' successfully unpacked and MD5 sums checked\n",
      "package 'ipred' successfully unpacked and MD5 sums checked\n",
      "package 'lubridate' successfully unpacked and MD5 sums checked\n",
      "package 'purrr' successfully unpacked and MD5 sums checked\n",
      "package 'rlang' successfully unpacked and MD5 sums checked\n"
     ]
    },
    {
     "name": "stderr",
     "output_type": "stream",
     "text": [
      "Warning message:\n",
      "\"cannot remove prior installation of package 'rlang'\"Warning message in file.copy(savedcopy, lib, recursive = TRUE):\n",
      "\"problem copying C:\\Users\\justi\\anaconda3\\envs\\r-kernel\\lib\\R\\library\\00LOCK\\rlang\\libs\\x64\\rlang.dll to C:\\Users\\justi\\anaconda3\\envs\\r-kernel\\lib\\R\\library\\rlang\\libs\\x64\\rlang.dll: Permission denied\"Warning message:\n",
      "\"restored 'rlang'\""
     ]
    },
    {
     "name": "stdout",
     "output_type": "stream",
     "text": [
      "package 'vctrs' successfully unpacked and MD5 sums checked\n",
      "\n",
      "The downloaded binary packages are in\n",
      "\tC:\\Users\\justi\\AppData\\Local\\Temp\\RtmpOAzEwa\\downloaded_packages\n"
     ]
    },
    {
     "name": "stderr",
     "output_type": "stream",
     "text": [
      "installing the source packages 'pillar', 'hardhat', 'lifecycle', 'tidyselect', 'recipes'\n",
      "\n",
      "Warning message in install.packages(\"recipes\"):\n",
      "\"installation of package 'hardhat' had non-zero exit status\"Warning message in install.packages(\"recipes\"):\n",
      "\"installation of package 'lifecycle' had non-zero exit status\"Warning message in install.packages(\"recipes\"):\n",
      "\"installation of package 'pillar' had non-zero exit status\"Warning message in install.packages(\"recipes\"):\n",
      "\"installation of package 'tidyselect' had non-zero exit status\"Warning message in install.packages(\"recipes\"):\n",
      "\"installation of package 'recipes' had non-zero exit status\"also installing the dependencies 'cli', 'pillar', 'tibble', 'glue', 'dplyr', 'hardhat', 'lifecycle', 'rlang', 'tidyselect', 'vctrs'\n",
      "\n"
     ]
    }
   ],
   "source": [
    "install.packages(\"tidyverse\")\n",
    "install.packages(\"tidyquant\")\n",
    "install.packages(\"parsnip\")\n",
    "install.packages(\"rsample\")\n",
    "install.packages(\"recipes\")\n",
    "install.packages(\"yardstick\")\n",
    "install.packages(\"rpart\")\n",
    "install.packages(\"rpart.plot\")"
   ]
  },
  {
   "cell_type": "code",
   "execution_count": 3,
   "metadata": {
    "vscode": {
     "languageId": "r"
    }
   },
   "outputs": [
    {
     "name": "stderr",
     "output_type": "stream",
     "text": [
      "also installing the dependencies 'processx', 'xfun', 'lifecycle', 'tidyselect', 'vctrs', 'scales', 'gargle', 'timechange', 'systemfonts', 'vroom', 'callr', 'knitr', 'glue', 'broom', 'conflicted', 'cli', 'dbplyr', 'dplyr', 'dtplyr', 'forcats', 'ggplot2', 'googledrive', 'googlesheets4', 'haven', 'hms', 'jsonlite', 'lubridate', 'magrittr', 'modelr', 'pillar', 'purrr', 'ragg', 'readr', 'readxl', 'reprex', 'rlang', 'rvest', 'stringr', 'tibble', 'tidyr', 'xml2'\n",
      "\n"
     ]
    },
    {
     "name": "stdout",
     "output_type": "stream",
     "text": [
      "\n",
      "  There are binary versions available but the source versions are later:\n",
      "              binary source needs_compilation\n",
      "processx       3.5.2  3.8.2              TRUE\n",
      "xfun            0.22   0.40              TRUE\n",
      "lifecycle      1.0.0  1.0.3             FALSE\n",
      "tidyselect     1.1.1  1.2.0             FALSE\n",
      "vctrs          0.3.8  0.6.4              TRUE\n",
      "scales         1.1.1  1.2.1             FALSE\n",
      "gargle         1.1.0  1.5.2             FALSE\n",
      "timechange     0.0.2  0.2.0              TRUE\n",
      "systemfonts    1.0.2  1.0.5              TRUE\n",
      "vroom          1.4.0  1.6.4              TRUE\n",
      "callr          3.7.0  3.7.3             FALSE\n",
      "knitr           1.33   1.44             FALSE\n",
      "glue           1.4.2  1.6.2              TRUE\n",
      "broom          0.7.6  1.0.5             FALSE\n",
      "conflicted     1.0.4  1.2.0             FALSE\n",
      "cli            2.5.0  3.6.1              TRUE\n",
      "dbplyr         2.1.1  2.3.4             FALSE\n",
      "dplyr          1.0.6  1.1.3              TRUE\n",
      "dtplyr         1.1.0  1.3.1             FALSE\n",
      "forcats        0.5.1  1.0.0             FALSE\n",
      "ggplot2        3.3.3  3.4.4             FALSE\n",
      "googledrive    1.0.1  2.1.1             FALSE\n",
      "googlesheets4  0.3.0  1.1.1             FALSE\n",
      "haven          2.4.1  2.5.3              TRUE\n",
      "hms            1.0.0  1.1.3             FALSE\n",
      "jsonlite       1.7.2  1.8.7              TRUE\n",
      "lubridate     1.7.10  1.9.3              TRUE\n",
      "magrittr       2.0.1  2.0.3              TRUE\n",
      "modelr         0.1.8 0.1.11             FALSE\n",
      "pillar         1.6.0  1.9.0             FALSE\n",
      "purrr          0.3.4  1.0.2              TRUE\n",
      "ragg           1.1.2  1.2.6              TRUE\n",
      "readr          1.4.0  2.1.4              TRUE\n",
      "readxl         1.3.1  1.4.3              TRUE\n",
      "reprex         2.0.0  2.0.2             FALSE\n",
      "rlang         0.4.11  1.1.1              TRUE\n",
      "rvest          1.0.0  1.0.3             FALSE\n",
      "stringr        1.4.0  1.5.0             FALSE\n",
      "tibble         3.1.1  3.2.1              TRUE\n",
      "tidyr          1.1.3  1.3.0              TRUE\n",
      "xml2           1.3.2  1.3.5              TRUE\n",
      "tidyverse      1.3.1  2.0.0             FALSE\n",
      "\n",
      "  Binaries will be installed\n",
      "package 'processx' successfully unpacked and MD5 sums checked\n",
      "package 'xfun' successfully unpacked and MD5 sums checked\n",
      "package 'vctrs' successfully unpacked and MD5 sums checked\n",
      "package 'timechange' successfully unpacked and MD5 sums checked\n",
      "package 'systemfonts' successfully unpacked and MD5 sums checked\n",
      "package 'vroom' successfully unpacked and MD5 sums checked\n",
      "package 'glue' successfully unpacked and MD5 sums checked\n",
      "package 'cli' successfully unpacked and MD5 sums checked\n",
      "package 'dplyr' successfully unpacked and MD5 sums checked\n",
      "package 'haven' successfully unpacked and MD5 sums checked\n",
      "package 'jsonlite' successfully unpacked and MD5 sums checked\n",
      "package 'lubridate' successfully unpacked and MD5 sums checked\n",
      "package 'magrittr' successfully unpacked and MD5 sums checked\n",
      "package 'purrr' successfully unpacked and MD5 sums checked\n",
      "package 'ragg' successfully unpacked and MD5 sums checked\n",
      "package 'readr' successfully unpacked and MD5 sums checked\n",
      "package 'readxl' successfully unpacked and MD5 sums checked\n",
      "package 'rlang' successfully unpacked and MD5 sums checked\n",
      "package 'tibble' successfully unpacked and MD5 sums checked\n",
      "package 'tidyr' successfully unpacked and MD5 sums checked\n",
      "package 'xml2' successfully unpacked and MD5 sums checked\n",
      "\n",
      "The downloaded binary packages are in\n",
      "\tC:\\Users\\justi\\AppData\\Local\\Temp\\Rtmp2nRimt\\downloaded_packages\n"
     ]
    },
    {
     "name": "stderr",
     "output_type": "stream",
     "text": [
      "installing the source packages 'lifecycle', 'tidyselect', 'scales', 'gargle', 'callr', 'knitr', 'broom', 'conflicted', 'dbplyr', 'dtplyr', 'forcats', 'ggplot2', 'googledrive', 'googlesheets4', 'hms', 'modelr', 'pillar', 'reprex', 'rvest', 'stringr', 'tidyverse'\n",
      "\n",
      "Warning message in install.packages(\"tidyverse\"):\n",
      "\"installation of package 'lifecycle' had non-zero exit status\"Warning message in install.packages(\"tidyverse\"):\n",
      "\"installation of package 'callr' had non-zero exit status\"Warning message in install.packages(\"tidyverse\"):\n",
      "\"installation of package 'knitr' had non-zero exit status\"Warning message in install.packages(\"tidyverse\"):\n",
      "\"installation of package 'conflicted' had non-zero exit status\"Warning message in install.packages(\"tidyverse\"):\n",
      "\"installation of package 'tidyselect' had non-zero exit status\"Warning message in install.packages(\"tidyverse\"):\n",
      "\"installation of package 'scales' had non-zero exit status\"Warning message in install.packages(\"tidyverse\"):\n",
      "\"installation of package 'gargle' had non-zero exit status\"Warning message in install.packages(\"tidyverse\"):\n",
      "\"installation of package 'forcats' had non-zero exit status\"Warning message in install.packages(\"tidyverse\"):\n",
      "\"installation of package 'hms' had non-zero exit status\"Warning message in install.packages(\"tidyverse\"):\n",
      "\"installation of package 'pillar' had non-zero exit status\"Warning message in install.packages(\"tidyverse\"):\n",
      "\"installation of package 'reprex' had non-zero exit status\"Warning message in install.packages(\"tidyverse\"):\n",
      "\"installation of package 'rvest' had non-zero exit status\"Warning message in install.packages(\"tidyverse\"):\n",
      "\"installation of package 'stringr' had non-zero exit status\"Warning message in install.packages(\"tidyverse\"):\n",
      "\"installation of package 'broom' had non-zero exit status\"Warning message in install.packages(\"tidyverse\"):\n",
      "\"installation of package 'dbplyr' had non-zero exit status\"Warning message in install.packages(\"tidyverse\"):\n",
      "\"installation of package 'dtplyr' had non-zero exit status\"Warning message in install.packages(\"tidyverse\"):\n",
      "\"installation of package 'ggplot2' had non-zero exit status\"Warning message in install.packages(\"tidyverse\"):\n",
      "\"installation of package 'googledrive' had non-zero exit status\"Warning message in install.packages(\"tidyverse\"):\n",
      "\"installation of package 'googlesheets4' had non-zero exit status\"Warning message in install.packages(\"tidyverse\"):\n",
      "\"installation of package 'modelr' had non-zero exit status\"Warning message in install.packages(\"tidyverse\"):\n",
      "\"installation of package 'tidyverse' had non-zero exit status\""
     ]
    }
   ],
   "source": [
    "install.packages(\"tidyverse\")"
   ]
  },
  {
   "cell_type": "code",
   "execution_count": 5,
   "metadata": {
    "vscode": {
     "languageId": "r"
    }
   },
   "outputs": [
    {
     "ename": "ERROR",
     "evalue": "Error in library(tidyverse): there is no package called 'tidyverse'\n",
     "output_type": "error",
     "traceback": [
      "Error in library(tidyverse): there is no package called 'tidyverse'\nTraceback:\n",
      "1. library(tidyverse)"
     ]
    }
   ],
   "source": [
    "# Core packages\n",
    "library(tidyverse)\n",
    "library(tidyquant)\n",
    "\n",
    "# Modeling Packages\n",
    "library(parsnip)\n",
    "library(recipes)\n",
    "library(rsample)\n",
    "library(yardstick)\n",
    "library(broom)\n",
    "\n",
    "# Connector packages\n",
    "library(rpart)\n",
    "library(rpart.plot)\n",
    "library(xgboost)"
   ]
  }
 ],
 "metadata": {
  "kernelspec": {
   "display_name": "R",
   "language": "R",
   "name": "ir"
  },
  "language_info": {
   "codemirror_mode": "r",
   "file_extension": ".r",
   "mimetype": "text/x-r-source",
   "name": "R",
   "pygments_lexer": "r",
   "version": "3.6.1"
  }
 },
 "nbformat": 4,
 "nbformat_minor": 2
}
